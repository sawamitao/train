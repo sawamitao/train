{
  "nbformat": 4,
  "nbformat_minor": 0,
  "metadata": {
    "colab": {
      "provenance": [],
      "authorship_tag": "ABX9TyPxK7uf2tK6je+sK/oYt5q8"
    },
    "kernelspec": {
      "name": "python3",
      "display_name": "Python 3"
    },
    "language_info": {
      "name": "python"
    }
  },
  "cells": [
    {
      "cell_type": "code",
      "execution_count": 1,
      "metadata": {
        "id": "QrQa0_2PPzIP"
      },
      "outputs": [],
      "source": [
        "import numpy as np\n",
        "from sklearn import datasets"
      ]
    },
    {
      "cell_type": "code",
      "source": [
        "iris = datasets.load_iris()\n",
        "iris.target"
      ],
      "metadata": {
        "colab": {
          "base_uri": "https://localhost:8080/"
        },
        "id": "kDuYG5P4UVcg",
        "outputId": "add1f29d-78c6-4860-b5ea-1e3b28c16cfe"
      },
      "execution_count": 11,
      "outputs": [
        {
          "output_type": "execute_result",
          "data": {
            "text/plain": [
              "array([0, 0, 0, 0, 0, 0, 0, 0, 0, 0, 0, 0, 0, 0, 0, 0, 0, 0, 0, 0, 0, 0,\n",
              "       0, 0, 0, 0, 0, 0, 0, 0, 0, 0, 0, 0, 0, 0, 0, 0, 0, 0, 0, 0, 0, 0,\n",
              "       0, 0, 0, 0, 0, 0, 1, 1, 1, 1, 1, 1, 1, 1, 1, 1, 1, 1, 1, 1, 1, 1,\n",
              "       1, 1, 1, 1, 1, 1, 1, 1, 1, 1, 1, 1, 1, 1, 1, 1, 1, 1, 1, 1, 1, 1,\n",
              "       1, 1, 1, 1, 1, 1, 1, 1, 1, 1, 1, 1, 2, 2, 2, 2, 2, 2, 2, 2, 2, 2,\n",
              "       2, 2, 2, 2, 2, 2, 2, 2, 2, 2, 2, 2, 2, 2, 2, 2, 2, 2, 2, 2, 2, 2,\n",
              "       2, 2, 2, 2, 2, 2, 2, 2, 2, 2, 2, 2, 2, 2, 2, 2, 2, 2])"
            ]
          },
          "metadata": {},
          "execution_count": 11
        }
      ]
    },
    {
      "cell_type": "code",
      "source": [
        "from sklearn import preprocessing\n",
        "from keras.utils import np_utils"
      ],
      "metadata": {
        "id": "YFOFGuX7UjoE"
      },
      "execution_count": 8,
      "outputs": []
    },
    {
      "cell_type": "markdown",
      "source": [
        "前処理\n"
      ],
      "metadata": {
        "id": "knKUFbiaVq8H"
      }
    },
    {
      "cell_type": "code",
      "source": [
        "scaler = preprocessing.StandardScaler()\n",
        "scaler.fit(iris.data)\n",
        "x = scaler.transform(iris.data)\n",
        "print(x[:10])"
      ],
      "metadata": {
        "colab": {
          "base_uri": "https://localhost:8080/"
        },
        "id": "jYdc3y8QUlGD",
        "outputId": "7b1afb61-ffff-4222-a041-73cecfc623b1"
      },
      "execution_count": 10,
      "outputs": [
        {
          "output_type": "stream",
          "name": "stdout",
          "text": [
            "[[-0.90068117  1.01900435 -1.34022653 -1.3154443 ]\n",
            " [-1.14301691 -0.13197948 -1.34022653 -1.3154443 ]\n",
            " [-1.38535265  0.32841405 -1.39706395 -1.3154443 ]\n",
            " [-1.50652052  0.09821729 -1.2833891  -1.3154443 ]\n",
            " [-1.02184904  1.24920112 -1.34022653 -1.3154443 ]\n",
            " [-0.53717756  1.93979142 -1.16971425 -1.05217993]\n",
            " [-1.50652052  0.78880759 -1.34022653 -1.18381211]\n",
            " [-1.02184904  0.78880759 -1.2833891  -1.3154443 ]\n",
            " [-1.74885626 -0.36217625 -1.34022653 -1.3154443 ]\n",
            " [-1.14301691  0.09821729 -1.2833891  -1.44707648]]\n"
          ]
        }
      ]
    },
    {
      "cell_type": "code",
      "source": [
        "t = np_utils.to_categorical(iris.target)\n",
        "print(t[:10])"
      ],
      "metadata": {
        "colab": {
          "base_uri": "https://localhost:8080/"
        },
        "id": "632D2cNYVQsm",
        "outputId": "494db62d-0fb0-42f2-cd0e-9f35eb36e1ce"
      },
      "execution_count": 12,
      "outputs": [
        {
          "output_type": "stream",
          "name": "stdout",
          "text": [
            "[[1. 0. 0.]\n",
            " [1. 0. 0.]\n",
            " [1. 0. 0.]\n",
            " [1. 0. 0.]\n",
            " [1. 0. 0.]\n",
            " [1. 0. 0.]\n",
            " [1. 0. 0.]\n",
            " [1. 0. 0.]\n",
            " [1. 0. 0.]\n",
            " [1. 0. 0.]]\n"
          ]
        }
      ]
    },
    {
      "cell_type": "markdown",
      "source": [
        "訓練データとテストデータ"
      ],
      "metadata": {
        "id": "XuZXWkUoVvTR"
      }
    },
    {
      "cell_type": "code",
      "source": [
        "from sklearn.model_selection import train_test_split\n",
        "\n",
        "x_train,x_test,t_train,t_test = train_test_split(x,t,train_size = 0.75)"
      ],
      "metadata": {
        "id": "RYee-8hgVxV3"
      },
      "execution_count": 13,
      "outputs": []
    },
    {
      "cell_type": "markdown",
      "source": [
        "モデルの構築"
      ],
      "metadata": {
        "id": "5hSRvamfV-If"
      }
    },
    {
      "cell_type": "code",
      "source": [
        "from tensorflow.keras.models import Sequential\n",
        "from tensorflow.keras.layers import Dense,Activation\n",
        "\n",
        "model = Sequential()\n",
        "model.add(Dense(32,input_dim = 4))\n",
        "model.add(Activation('relu'))\n",
        "model.add(Dense(32))\n",
        "model.add(Activation('relu'))\n",
        "model.add(Dense(3))\n",
        "model.add(Activation('softmax'))\n",
        "model.compile(optimizer = 'sgd',loss = 'categorical_crossentropy',metrics=[\"accuracy\"])\n",
        "print(model.summary())"
      ],
      "metadata": {
        "colab": {
          "base_uri": "https://localhost:8080/"
        },
        "id": "_1dEZFxyV8yd",
        "outputId": "a44c0788-bca8-4458-c81c-91c379dac4f4"
      },
      "execution_count": 15,
      "outputs": [
        {
          "output_type": "stream",
          "name": "stdout",
          "text": [
            "Model: \"sequential_1\"\n",
            "_________________________________________________________________\n",
            " Layer (type)                Output Shape              Param #   \n",
            "=================================================================\n",
            " dense_3 (Dense)             (None, 32)                160       \n",
            "                                                                 \n",
            " activation_3 (Activation)   (None, 32)                0         \n",
            "                                                                 \n",
            " dense_4 (Dense)             (None, 32)                1056      \n",
            "                                                                 \n",
            " activation_4 (Activation)   (None, 32)                0         \n",
            "                                                                 \n",
            " dense_5 (Dense)             (None, 3)                 99        \n",
            "                                                                 \n",
            " activation_5 (Activation)   (None, 3)                 0         \n",
            "                                                                 \n",
            "=================================================================\n",
            "Total params: 1,315\n",
            "Trainable params: 1,315\n",
            "Non-trainable params: 0\n",
            "_________________________________________________________________\n",
            "None\n"
          ]
        }
      ]
    },
    {
      "cell_type": "markdown",
      "source": [
        "学習"
      ],
      "metadata": {
        "id": "8k3S4fuLXWEm"
      }
    },
    {
      "cell_type": "code",
      "source": [
        "history = model.fit(x_train,t_train,epochs = 30,batch_size = 8)"
      ],
      "metadata": {
        "colab": {
          "base_uri": "https://localhost:8080/"
        },
        "id": "CV051PuEXBxk",
        "outputId": "2915ecd7-3179-4ffc-b8c7-6e5ae0a7d17c"
      },
      "execution_count": 16,
      "outputs": [
        {
          "output_type": "stream",
          "name": "stdout",
          "text": [
            "Epoch 1/30\n",
            "14/14 [==============================] - 1s 3ms/step - loss: 1.1794 - accuracy: 0.1607\n",
            "Epoch 2/30\n",
            "14/14 [==============================] - 0s 2ms/step - loss: 1.0662 - accuracy: 0.5625\n",
            "Epoch 3/30\n",
            "14/14 [==============================] - 0s 2ms/step - loss: 0.9778 - accuracy: 0.6696\n",
            "Epoch 4/30\n",
            "14/14 [==============================] - 0s 2ms/step - loss: 0.9010 - accuracy: 0.6964\n",
            "Epoch 5/30\n",
            "14/14 [==============================] - 0s 2ms/step - loss: 0.8334 - accuracy: 0.7143\n",
            "Epoch 6/30\n",
            "14/14 [==============================] - 0s 2ms/step - loss: 0.7752 - accuracy: 0.7411\n",
            "Epoch 7/30\n",
            "14/14 [==============================] - 0s 3ms/step - loss: 0.7231 - accuracy: 0.7589\n",
            "Epoch 8/30\n",
            "14/14 [==============================] - 0s 2ms/step - loss: 0.6783 - accuracy: 0.7768\n",
            "Epoch 9/30\n",
            "14/14 [==============================] - 0s 2ms/step - loss: 0.6385 - accuracy: 0.8036\n",
            "Epoch 10/30\n",
            "14/14 [==============================] - 0s 3ms/step - loss: 0.6036 - accuracy: 0.8036\n",
            "Epoch 11/30\n",
            "14/14 [==============================] - 0s 2ms/step - loss: 0.5730 - accuracy: 0.8214\n",
            "Epoch 12/30\n",
            "14/14 [==============================] - 0s 2ms/step - loss: 0.5459 - accuracy: 0.8571\n",
            "Epoch 13/30\n",
            "14/14 [==============================] - 0s 2ms/step - loss: 0.5216 - accuracy: 0.8571\n",
            "Epoch 14/30\n",
            "14/14 [==============================] - 0s 2ms/step - loss: 0.5005 - accuracy: 0.8571\n",
            "Epoch 15/30\n",
            "14/14 [==============================] - 0s 2ms/step - loss: 0.4813 - accuracy: 0.8661\n",
            "Epoch 16/30\n",
            "14/14 [==============================] - 0s 2ms/step - loss: 0.4633 - accuracy: 0.8571\n",
            "Epoch 17/30\n",
            "14/14 [==============================] - 0s 2ms/step - loss: 0.4468 - accuracy: 0.8661\n",
            "Epoch 18/30\n",
            "14/14 [==============================] - 0s 2ms/step - loss: 0.4325 - accuracy: 0.8661\n",
            "Epoch 19/30\n",
            "14/14 [==============================] - 0s 2ms/step - loss: 0.4187 - accuracy: 0.8661\n",
            "Epoch 20/30\n",
            "14/14 [==============================] - 0s 2ms/step - loss: 0.4064 - accuracy: 0.8661\n",
            "Epoch 21/30\n",
            "14/14 [==============================] - 0s 2ms/step - loss: 0.3949 - accuracy: 0.8661\n",
            "Epoch 22/30\n",
            "14/14 [==============================] - 0s 2ms/step - loss: 0.3833 - accuracy: 0.8661\n",
            "Epoch 23/30\n",
            "14/14 [==============================] - 0s 2ms/step - loss: 0.3733 - accuracy: 0.8661\n",
            "Epoch 24/30\n",
            "14/14 [==============================] - 0s 2ms/step - loss: 0.3638 - accuracy: 0.8661\n",
            "Epoch 25/30\n",
            "14/14 [==============================] - 0s 2ms/step - loss: 0.3550 - accuracy: 0.8661\n",
            "Epoch 26/30\n",
            "14/14 [==============================] - 0s 2ms/step - loss: 0.3466 - accuracy: 0.8661\n",
            "Epoch 27/30\n",
            "14/14 [==============================] - 0s 2ms/step - loss: 0.3387 - accuracy: 0.8661\n",
            "Epoch 28/30\n",
            "14/14 [==============================] - 0s 2ms/step - loss: 0.3308 - accuracy: 0.8750\n",
            "Epoch 29/30\n",
            "14/14 [==============================] - 0s 2ms/step - loss: 0.3234 - accuracy: 0.8750\n",
            "Epoch 30/30\n",
            "14/14 [==============================] - 0s 2ms/step - loss: 0.3171 - accuracy: 0.8750\n"
          ]
        }
      ]
    },
    {
      "cell_type": "markdown",
      "source": [
        "学習の推移"
      ],
      "metadata": {
        "id": "Yp7Knn9NXkj6"
      }
    },
    {
      "cell_type": "code",
      "source": [
        "import matplotlib.pyplot as plt\n",
        "hist_loss = history.history[\"loss\"]\n",
        "hist_acc = history.history[\"accuracy\"]\n",
        "plt.plot(np.arange(len(hist_loss)),hist_loss,label = 'loss')\n",
        "plt.plot(np.arange(len(hist_acc)),hist_acc,label = 'accuracy')\n",
        "plt.legend()\n",
        "plt.show()"
      ],
      "metadata": {
        "colab": {
          "base_uri": "https://localhost:8080/",
          "height": 265
        },
        "id": "zGqNYgEfXgPk",
        "outputId": "08b532d8-26e0-4050-d86e-e6fec146ebbe"
      },
      "execution_count": 20,
      "outputs": [
        {
          "output_type": "display_data",
          "data": {
            "text/plain": [
              "<Figure size 432x288 with 1 Axes>"
            ],
            "image/png": "[encoded data removed]"
          },
          "metadata": {
            "needs_background": "light"
          }
        }
      ]
    },
    {
      "cell_type": "markdown",
      "source": [
        "モデルの評価"
      ],
      "metadata": {
        "id": "1P9wP63nYSAl"
      }
    },
    {
      "cell_type": "code",
      "source": [
        "loss,accuracy = model.evaluate(x_test,t_test)\n",
        "print(\"誤差:\",loss,\"精度：\",accuracy)"
      ],
      "metadata": {
        "colab": {
          "base_uri": "https://localhost:8080/"
        },
        "id": "S6rkg9iHX81o",
        "outputId": "acfc17d6-2b91-45e4-97ac-db07447a2dce"
      },
      "execution_count": 23,
      "outputs": [
        {
          "output_type": "stream",
          "name": "stdout",
          "text": [
            "2/2 [==============================] - 0s 6ms/step - loss: 0.3440 - accuracy: 0.9474\n",
            "誤差: 0.3439610004425049 精度： 0.9473684430122375\n"
          ]
        }
      ]
    },
    {
      "cell_type": "markdown",
      "source": [
        "予測"
      ],
      "metadata": {
        "id": "Tb9DrwKrYnkO"
      }
    },
    {
      "cell_type": "code",
      "source": [
        "y_test = model.predict(x_test)\n",
        "print(y_test[:10])"
      ],
      "metadata": {
        "colab": {
          "base_uri": "https://localhost:8080/"
        },
        "id": "w-3dWIK1YeDU",
        "outputId": "5060608a-251a-4b90-c7ce-09375eab6675"
      },
      "execution_count": 25,
      "outputs": [
        {
          "output_type": "stream",
          "name": "stdout",
          "text": [
            "2/2 [==============================] - 0s 7ms/step\n",
            "[[0.04435254 0.2506786  0.70496887]\n",
            " [0.07506212 0.31922793 0.6057098 ]\n",
            " [0.9963728  0.00175873 0.00186842]\n",
            " [0.10879319 0.584683   0.30652386]\n",
            " [0.0410049  0.3497515  0.6092436 ]\n",
            " [0.10303248 0.4667643  0.43020323]\n",
            " [0.10225929 0.5163222  0.3814185 ]\n",
            " [0.99458605 0.00302732 0.00238664]\n",
            " [0.11038705 0.4818467  0.40776628]\n",
            " [0.10791683 0.70068604 0.19139703]]\n"
          ]
        }
      ]
    },
    {
      "cell_type": "markdown",
      "source": [
        "モデルの保存"
      ],
      "metadata": {
        "id": "1HgtdXUMYy0R"
      }
    },
    {
      "cell_type": "code",
      "source": [
        "from tensorflow.keras.models import load_model\n",
        "model.save('model.h5')\n",
        "load_model('model.h5')"
      ],
      "metadata": {
        "colab": {
          "base_uri": "https://localhost:8080/"
        },
        "id": "Pbsdc6njYv-m",
        "outputId": "3fb02831-da96-4e68-a871-1e4734f7c272"
      },
      "execution_count": 27,
      "outputs": [
        {
          "output_type": "execute_result",
          "data": {
            "text/plain": [
              "<keras.engine.sequential.Sequential at 0x7f1a8e38cfa0>"
            ]
          },
          "metadata": {},
          "execution_count": 27
        }
      ]
    },
    {
      "cell_type": "code",
      "source": [],
      "metadata": {
        "id": "A5p76e-uZBPu"
      },
      "execution_count": null,
      "outputs": []
    }
  ]
}